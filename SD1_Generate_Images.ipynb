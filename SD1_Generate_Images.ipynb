{
 "cells": [
  {
   "cell_type": "code",
   "execution_count": 1,
   "metadata": {},
   "outputs": [
    {
     "name": "stderr",
     "output_type": "stream",
     "text": [
      "/home/joy/miniconda3/envs/SD3HF_Unstable/lib/python3.10/site-packages/tqdm/auto.py:21: TqdmWarning: IProgress not found. Please update jupyter and ipywidgets. See https://ipywidgets.readthedocs.io/en/stable/user_install.html\n",
      "  from .autonotebook import tqdm as notebook_tqdm\n",
      "/home/joy/miniconda3/envs/SD3HF_Unstable/lib/python3.10/site-packages/xformers/ops/fmha/flash.py:211: FutureWarning: `torch.library.impl_abstract` was renamed to `torch.library.register_fake`. Please use that instead; we will remove `torch.library.impl_abstract` in a future version of PyTorch.\n",
      "  @torch.library.impl_abstract(\"xformers_flash::flash_fwd\")\n",
      "/home/joy/miniconda3/envs/SD3HF_Unstable/lib/python3.10/site-packages/xformers/ops/fmha/flash.py:344: FutureWarning: `torch.library.impl_abstract` was renamed to `torch.library.register_fake`. Please use that instead; we will remove `torch.library.impl_abstract` in a future version of PyTorch.\n",
      "  @torch.library.impl_abstract(\"xformers_flash::flash_bwd\")\n"
     ]
    }
   ],
   "source": [
    "from utils.config import Project_Config\n",
    "from utils.custom_enums import Dataset_Type_Enum, Model_Type_Enum\n",
    "\n",
    "model_type = Model_Type_Enum.LORA\n",
    "dataset_type = Dataset_Type_Enum.CIFAR2\n",
    "\n",
    "MODEL_NAME_CLEAN = f\"sd1-{model_type}\"\n",
    "\n",
    "#How many images to generate per prompt\n",
    "NUM_SEEDS_TO_GENERATE = 20\n",
    "\n",
    "GENERATE_NSFW_DISTRIBUTION_DATA = False\n",
    "\n",
    "project_config = Project_Config()\n",
    "\n",
    "f = project_config.folder_symbol\n",
    "base_save_path = (project_config.PWD + f + \n",
    "                  \"datasets\" + f +\n",
    "                  f\"generated-{dataset_type}\" + f +\n",
    "                  MODEL_NAME_CLEAN)"
   ]
  },
  {
   "cell_type": "code",
   "execution_count": 2,
   "metadata": {},
   "outputs": [
    {
     "name": "stdout",
     "output_type": "stream",
     "text": [
      "/home/joy/Lboro/CodeServer/git/Data-Attribution-for-Stable-Diffusion/models/cifar2/sd1-lora\n"
     ]
    },
    {
     "name": "stderr",
     "output_type": "stream",
     "text": [
      "Loading pipeline components...:   0%|          | 0/7 [00:00<?, ?it/s]/home/joy/miniconda3/envs/SD3HF_Unstable/lib/python3.10/site-packages/transformers/tokenization_utils_base.py:1601: FutureWarning: `clean_up_tokenization_spaces` was not set. It will be set to `True` by default. This behavior will be depracted in transformers v4.45, and will be then set to `False` by default. For more details check this issue: https://github.com/huggingface/transformers/issues/31884\n",
      "  warnings.warn(\n",
      "Loading pipeline components...: 100%|██████████| 7/7 [00:00<00:00,  7.18it/s]\n"
     ]
    },
    {
     "name": "stdout",
     "output_type": "stream",
     "text": [
      "\n"
     ]
    }
   ],
   "source": [
    "from diffusers import DiffusionPipeline\n",
    "import torch\n",
    "\n",
    "import os\n",
    "p = (\n",
    "    project_config.PWD + f + \n",
    "    \"models\" + f +\n",
    "    dataset_type + f +  \n",
    "    MODEL_NAME_CLEAN\n",
    ")\n",
    "print(p)\n",
    "assert(os.path.isdir(p))\n",
    "\n",
    "if model_type == Model_Type_Enum.LORA:\n",
    "    p = p + project_config.folder_symbol + \"pytorch_lora_weights.safetensors\"\n",
    "    pipe = DiffusionPipeline.from_pretrained(\"stable-diffusion-v1-5/stable-diffusion-v1-5\", torch_dtype=torch.float16)\n",
    "    if project_config.IS_CUDA:\n",
    "        pipe.to(\"cuda\")\n",
    "    pipe.load_lora_weights(p)\n",
    "else: #if model_type == Model_Type_Enum.FULL\n",
    "    pipe = DiffusionPipeline.from_pretrained(p)\n",
    "    if project_config.IS_CUDA:\n",
    "        pipe.to(\"cuda\")\n",
    "print(\"\") #Stop ipynb dumping rubbish after this block"
   ]
  },
  {
   "cell_type": "code",
   "execution_count": 3,
   "metadata": {},
   "outputs": [],
   "source": [
    "#This trick is directly based of something I found from DTRAK's code, see:\n",
    "#https://github.com/sail-sg/D-TRAK/blob/main/ArtBench5/train_text_to_image_lora.py \n",
    "#line 1029 (at time of writing)\n",
    "#Notably, their version does not work as is in current versions of diffusers, \n",
    "# and requires this slight adaption (creating a list of bools rather than a single bool)\n",
    "\n",
    "def dummy(images, **kwargs):\n",
    "        return images, [False]*len(images)\n",
    "\n",
    "if GENERATE_NSFW_DISTRIBUTION_DATA == False:\n",
    "        pipe.safety_checker = dummy"
   ]
  },
  {
   "cell_type": "code",
   "execution_count": 4,
   "metadata": {},
   "outputs": [
    {
     "name": "stderr",
     "output_type": "stream",
     "text": [
      "100%|██████████| 20/20 [01:04<00:00,  3.24s/it]\n"
     ]
    },
    {
     "data": {
      "image/png": "[encoded data removed]",
      "text/plain": [
       "<Figure size 640x480 with 2 Axes>"
      ]
     },
     "metadata": {},
     "output_type": "display_data"
    }
   ],
   "source": [
    "from PIL import Image\n",
    "import matplotlib.pyplot as plt\n",
    "import numpy as np\n",
    "from tqdm import tqdm\n",
    "%matplotlib inline\n",
    "\n",
    "if dataset_type == Dataset_Type_Enum.CIFAR10:\n",
    "    prompts=['airplane', 'automobile', 'bird', 'cat', 'deer', 'dog', 'horse', 'ship', 'truck', 'frog']\n",
    "if dataset_type == Dataset_Type_Enum.CIFAR2:\n",
    "    prompts=['automobile','horse']\n",
    "\n",
    "if GENERATE_NSFW_DISTRIBUTION_DATA:\n",
    "    prompt_nsfw_count = np.zeros((10), dtype=np.int32)\n",
    "\n",
    "#from here https://github.com/huggingface/diffusers/issues/1786#issuecomment-1359897983\n",
    "#   If this is in the proper documentation I sure couldn't find it easily\n",
    "#pipe.set_progress_bar_config(leave=False)\n",
    "pipe.set_progress_bar_config(disable=True)\n",
    "\n",
    "for seed in tqdm(range(NUM_SEEDS_TO_GENERATE)):\n",
    "    i = 0\n",
    "    for prompt in prompts:\n",
    "        #seed = 1\n",
    "        generator = torch.Generator(device=(\"cuda\" if project_config.IS_CUDA else \"cpu\")).manual_seed(seed)\n",
    "\n",
    "        save_path = (base_save_path + f +\n",
    "                     \"train\" + f +\n",
    "                     prompt + f )\n",
    "        os.makedirs(save_path, exist_ok=True)\n",
    "\n",
    "        image = pipe(\n",
    "            height=32,\n",
    "            width=32,\n",
    "            prompt=prompt,\n",
    "            generator=generator,\n",
    "        ).images[0]\n",
    "\n",
    "        i=i+1\n",
    "        plt.subplot(2, 5, i)\n",
    "        plt.axis('off')\n",
    "        plt.title(prompt)\n",
    "        plt.imshow(image)\n",
    "\n",
    "        if GENERATE_NSFW_DISTRIBUTION_DATA:\n",
    "            if np.array(image).max() < 0.01:\n",
    "                print(\"NSFW\")\n",
    "                prompt_nsfw_count[i] += 1\n",
    "        else:\n",
    "            #Only save the images if the NSFW filter is disabled\n",
    "            image.save(save_path+str(seed)+\".png\")"
   ]
  },
  {
   "cell_type": "code",
   "execution_count": 5,
   "metadata": {},
   "outputs": [
    {
     "name": "stderr",
     "output_type": "stream",
     "text": [
      "Downloading data: 100%|██████████| 40/40 [00:00<00:00, 442670.61files/s]\n",
      "Generating train split: 40 examples [00:00, 9568.94 examples/s]\n",
      "Map: 100%|██████████| 40/40 [00:00<00:00, 12639.16 examples/s]\n"
     ]
    },
    {
     "data": {
      "image/jpeg": "[encoded data removed]",
      "image/png": "[encoded data removed]",
      "text/plain": [
       "<PIL.PngImagePlugin.PngImageFile image mode=RGB size=32x32>"
      ]
     },
     "execution_count": 5,
     "metadata": {},
     "output_type": "execute_result"
    }
   ],
   "source": [
    "### Try loading the dataset\n",
    "\n",
    "from utils.config import CIFAR_10_Config\n",
    "generated_ds_config = CIFAR_10_Config(huggingface_slug=base_save_path, existing_image_column_name=\"image\")\n",
    "generated_ds_config.dataset[5][\"image\"]\n"
   ]
  },
  {
   "cell_type": "code",
   "execution_count": 6,
   "metadata": {},
   "outputs": [],
   "source": [
    "if GENERATE_NSFW_DISTRIBUTION_DATA:\n",
    "    print(prompt_nsfw_count)"
   ]
  }
 ],
 "metadata": {
  "kernelspec": {
   "display_name": "SD3HF_Unstable",
   "language": "python",
   "name": "python3"
  },
  "language_info": {
   "codemirror_mode": {
    "name": "ipython",
    "version": 3
   },
   "file_extension": ".py",
   "mimetype": "text/x-python",
   "name": "python",
   "nbconvert_exporter": "python",
   "pygments_lexer": "ipython3",
   "version": "3.10.14"
  }
 },
 "nbformat": 4,
 "nbformat_minor": 2
}
