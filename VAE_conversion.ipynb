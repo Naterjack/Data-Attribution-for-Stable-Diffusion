{
 "cells": [
  {
   "cell_type": "code",
   "execution_count": 1,
   "metadata": {},
   "outputs": [
    {
     "name": "stderr",
     "output_type": "stream",
     "text": [
      "/home/joy/miniconda3/envs/SD3HF_Unstable/lib/python3.10/site-packages/tqdm/auto.py:21: TqdmWarning: IProgress not found. Please update jupyter and ipywidgets. See https://ipywidgets.readthedocs.io/en/stable/user_install.html\n",
      "  from .autonotebook import tqdm as notebook_tqdm\n",
      "/home/joy/miniconda3/envs/SD3HF_Unstable/lib/python3.10/site-packages/xformers/ops/fmha/flash.py:211: FutureWarning: `torch.library.impl_abstract` was renamed to `torch.library.register_fake`. Please use that instead; we will remove `torch.library.impl_abstract` in a future version of PyTorch.\n",
      "  @torch.library.impl_abstract(\"xformers_flash::flash_fwd\")\n",
      "/home/joy/miniconda3/envs/SD3HF_Unstable/lib/python3.10/site-packages/xformers/ops/fmha/flash.py:344: FutureWarning: `torch.library.impl_abstract` was renamed to `torch.library.register_fake`. Please use that instead; we will remove `torch.library.impl_abstract` in a future version of PyTorch.\n",
      "  @torch.library.impl_abstract(\"xformers_flash::flash_bwd\")\n"
     ]
    }
   ],
   "source": [
    "from utils.config import Project_Config, CIFAR_10_Config, CIFAR_10_Local_Config, Model_Config\n",
    "from utils.custom_enums import Dataset_Type_Enum, Model_Type_Enum\n",
    "project_config = Project_Config()"
   ]
  },
  {
   "cell_type": "code",
   "execution_count": 2,
   "metadata": {},
   "outputs": [],
   "source": [
    "import torch\n",
    "from tqdm import tqdm\n",
    "from torch.utils.data import DataLoader\n",
    "from os import makedirs"
   ]
  },
  {
   "cell_type": "code",
   "execution_count": 3,
   "metadata": {},
   "outputs": [],
   "source": [
    "dataset_type = Dataset_Type_Enum.CIFAR10\n",
    "SAVE=True\n",
    "weight_dtype = torch.float32\n",
    "\n",
    "\n",
    "f = project_config.folder_symbol\n",
    "save_dir_path = (\n",
    "    project_config.PWD + f +\n",
    "    \"VAE\" + f\n",
    ")\n",
    "\n",
    "save_file_path = (\n",
    "    save_dir_path + f +\n",
    "    f\"vae-{dataset_type}.pt\"\n",
    ")"
   ]
  },
  {
   "cell_type": "code",
   "execution_count": 4,
   "metadata": {},
   "outputs": [],
   "source": [
    "model_type = Model_Type_Enum.FULL\n",
    "model_config = Model_Config(\n",
    "    project_config=project_config,\n",
    "    MODEL_TYPE=model_type,\n",
    "    DATASET_TYPE=dataset_type,\n",
    "    NUM_CHECKPOINTS=10, \n",
    "    ITERATIONS_PER_CHECKPOINT=1000\n",
    ")"
   ]
  },
  {
   "cell_type": "code",
   "execution_count": 5,
   "metadata": {},
   "outputs": [],
   "source": [
    "if dataset_type == Dataset_Type_Enum.CIFAR2:\n",
    "    dataset_config = CIFAR_10_Local_Config(\n",
    "        project_config=project_config,\n",
    "        dataset_type=dataset_type\n",
    "    )\n",
    "if dataset_type == Dataset_Type_Enum.CIFAR10:\n",
    "    dataset_config = CIFAR_10_Config()"
   ]
  },
  {
   "cell_type": "code",
   "execution_count": 6,
   "metadata": {},
   "outputs": [
    {
     "data": {
      "text/plain": [
       "{'image': Image(mode=None, decode=True, id=None),\n",
       " 'label_txt': Value(dtype='string', id=None)}"
      ]
     },
     "execution_count": 6,
     "metadata": {},
     "output_type": "execute_result"
    }
   ],
   "source": [
    "dataset_config.dataset.features"
   ]
  },
  {
   "cell_type": "code",
   "execution_count": 7,
   "metadata": {},
   "outputs": [
    {
     "data": {
      "image/jpeg": "[encoded data removed]",
      "image/png": "[encoded data removed]",
      "text/plain": [
       "<PIL.PngImagePlugin.PngImageFile image mode=RGB size=32x32>"
      ]
     },
     "execution_count": 7,
     "metadata": {},
     "output_type": "execute_result"
    }
   ],
   "source": [
    "dataset_config.dataset[0][\"image\"]"
   ]
  },
  {
   "cell_type": "code",
   "execution_count": 8,
   "metadata": {},
   "outputs": [
    {
     "data": {
      "text/plain": [
       "'airplane'"
      ]
     },
     "execution_count": 8,
     "metadata": {},
     "output_type": "execute_result"
    }
   ],
   "source": [
    "dataset_config.dataset[0][\"label_txt\"]"
   ]
  },
  {
   "cell_type": "code",
   "execution_count": 9,
   "metadata": {},
   "outputs": [
    {
     "name": "stdout",
     "output_type": "stream",
     "text": [
      "\n"
     ]
    }
   ],
   "source": [
    "p = model_config.getModelDirectory()\n",
    "tokenizer, _, vae, _ = model_config.loadModelComponents(p)\n",
    "\n",
    "if project_config.IS_CUDA:\n",
    "    vae.to(\"cuda\")\n",
    "\n",
    "vae.requires_grad_(False)\n",
    "print(\"\") #Stop ipynb from dumping the full VAE description after this block"
   ]
  },
  {
   "cell_type": "code",
   "execution_count": 10,
   "metadata": {},
   "outputs": [],
   "source": [
    "train_dataset = dataset_config.preprocess(tokenizer)\n",
    "\n",
    "dataset_length = len(train_dataset)\n",
    "\n",
    "# DataLoaders creation:\n",
    "train_dataloader = DataLoader(\n",
    "    train_dataset,\n",
    "    shuffle=False,\n",
    "    collate_fn=dataset_config.collate_fn,\n",
    "    batch_size=1,\n",
    ")"
   ]
  },
  {
   "cell_type": "code",
   "execution_count": 11,
   "metadata": {},
   "outputs": [
    {
     "name": "stderr",
     "output_type": "stream",
     "text": [
      "100%|██████████| 50000/50000 [03:01<00:00, 275.61it/s]\n"
     ]
    }
   ],
   "source": [
    "if SAVE:\n",
    "    #NOTE: latent size is hard coded for SD1, you will need to change this for other models\n",
    "    precomputed_latents_matrix = torch.zeros(dataset_length,4,4,4,device=\"cpu\")\n",
    "\n",
    "    if project_config.IS_CUDA:\n",
    "        #GPU side buffer to avoid copying to RAM every iteration\n",
    "        GPU_BUFFER_SIZE = 1000\n",
    "        latents_buffer = torch.zeros(GPU_BUFFER_SIZE,4,4,4,device=\"cuda\")\n",
    "\n",
    "    #iterator for the latent buffer\n",
    "    i = 0 \n",
    "    #iterator for the buffers to full matrix\n",
    "    j = 0\n",
    "    for batch in tqdm(train_dataloader):\n",
    "        if project_config.IS_CUDA:\n",
    "            batch = [x.cuda() for y,x in batch.items()]\n",
    "        else:\n",
    "            batch = [x for y,x in batch.items()]\n",
    "        image = batch[0]\n",
    "        tokens = batch[1]\n",
    "        # Convert images to latent space\n",
    "        latents = vae.encode(image.to(weight_dtype)).latent_dist.sample()\n",
    "        latents = latents * vae.config.scaling_factor\n",
    "        if project_config.IS_CUDA:\n",
    "            latents_buffer[i] = latents\n",
    "            i+=1\n",
    "            if i==GPU_BUFFER_SIZE:\n",
    "                precomputed_latents_matrix[j:(j+GPU_BUFFER_SIZE)] = latents_buffer.detach().cpu()\n",
    "                latents_buffer = torch.zeros_like(latents_buffer)\n",
    "                j+=GPU_BUFFER_SIZE\n",
    "                i=0\n",
    "        else:\n",
    "            precomputed_latents_matrix[i]=latents\n",
    "            i+=1"
   ]
  },
  {
   "cell_type": "code",
   "execution_count": 12,
   "metadata": {},
   "outputs": [
    {
     "name": "stdout",
     "output_type": "stream",
     "text": [
      "[50000, 4, 4, 4]\n",
      "tensor([[[ 2.8180e-01, -1.0370e-01, -6.8682e-01, -3.0771e-01],\n",
      "         [ 3.9340e-01, -4.2729e-01, -1.4128e-01, -6.5459e-01],\n",
      "         [-1.4997e-01, -8.6170e-01,  9.7968e-01,  1.0312e+00],\n",
      "         [ 1.1776e-01,  7.1766e-01, -6.0843e-01, -4.6587e-01]],\n",
      "\n",
      "        [[ 9.4966e-01,  6.0608e-01,  1.2866e+00,  1.0569e+00],\n",
      "         [-9.5986e-01, -4.6757e-01, -3.5567e-01, -2.8755e-01],\n",
      "         [ 1.4103e-01, -8.4009e-01, -5.5975e-01, -3.1648e-01],\n",
      "         [-5.3724e-01,  2.4471e-01,  3.8255e-01,  4.0280e-01]],\n",
      "\n",
      "        [[ 5.4163e-01, -6.1474e-01,  5.1969e-02, -1.2104e+00],\n",
      "         [-7.7455e-02,  4.5337e-01,  5.0793e-01,  3.7314e-01],\n",
      "         [ 1.1228e+00, -6.4420e-01,  4.6458e-01, -1.6711e-01],\n",
      "         [-2.4756e-01, -6.2453e-01, -9.7129e-01, -1.1437e+00]],\n",
      "\n",
      "        [[ 6.4098e-04, -1.0270e+00, -9.8081e-01, -9.0646e-01],\n",
      "         [-1.2949e-01, -2.9597e-01, -1.3314e-01, -2.4591e-01],\n",
      "         [ 7.1650e-01, -1.3980e+00,  3.0067e-02, -1.2232e-02],\n",
      "         [-3.5809e-01,  9.1187e-01, -5.1174e-01, -1.1497e-01]]])\n"
     ]
    }
   ],
   "source": [
    "if SAVE:\n",
    "    print(list(precomputed_latents_matrix.shape))\n",
    "    print(precomputed_latents_matrix[0])"
   ]
  },
  {
   "cell_type": "code",
   "execution_count": 13,
   "metadata": {},
   "outputs": [],
   "source": [
    "if SAVE:\n",
    "    makedirs(save_dir_path, exist_ok=True)\n",
    "\n",
    "    torch.save(precomputed_latents_matrix, save_file_path)"
   ]
  },
  {
   "cell_type": "code",
   "execution_count": 14,
   "metadata": {},
   "outputs": [
    {
     "name": "stdout",
     "output_type": "stream",
     "text": [
      "[50000, 4, 4, 4]\n"
     ]
    },
    {
     "name": "stderr",
     "output_type": "stream",
     "text": [
      "/tmp/ipykernel_455006/2299741129.py:1: FutureWarning: You are using `torch.load` with `weights_only=False` (the current default value), which uses the default pickle module implicitly. It is possible to construct malicious pickle data which will execute arbitrary code during unpickling (See https://github.com/pytorch/pytorch/blob/main/SECURITY.md#untrusted-models for more details). In a future release, the default value for `weights_only` will be flipped to `True`. This limits the functions that could be executed during unpickling. Arbitrary objects will no longer be allowed to be loaded via this mode unless they are explicitly allowlisted by the user via `torch.serialization.add_safe_globals`. We recommend you start setting `weights_only=True` for any use case where you don't have full control of the loaded file. Please open an issue on GitHub for any issues related to this experimental feature.\n",
      "  pregenerated_vae_results = torch.load(save_file_path)\n"
     ]
    }
   ],
   "source": [
    "pregenerated_vae_results = torch.load(save_file_path)\n",
    "print(list(pregenerated_vae_results.shape))\n",
    "\n",
    "pregenerated_vae_results = pregenerated_vae_results.reshape(dataset_length,4*4*4)"
   ]
  },
  {
   "cell_type": "code",
   "execution_count": 15,
   "metadata": {},
   "outputs": [
    {
     "name": "stdout",
     "output_type": "stream",
     "text": [
      "torch.Size([1, 64])\n",
      "torch.Size([50000, 64])\n",
      "torch.Size([1, 50000])\n",
      "tensor([[-0.3351,  0.1757,  0.2333,  ...,  0.1162,  0.0247,  0.0050]])\n",
      "tensor(100)\n"
     ]
    }
   ],
   "source": [
    "target_index = 100\n",
    "\n",
    "for index, batch in enumerate(train_dataloader):\n",
    "    if index == target_index:\n",
    "        example_batch = batch\n",
    "        break\n",
    "\n",
    "if project_config.IS_CUDA:\n",
    "    example_batch = [x.cuda() for y,x in example_batch.items()]\n",
    "else:\n",
    "    example_batch = [x for y,x in example_batch.items()]\n",
    "image = example_batch[0]\n",
    "# Convert images to latent space\n",
    "latents = vae.encode(image.to(weight_dtype)).latent_dist.sample()\n",
    "latents = latents * vae.config.scaling_factor\n",
    "\n",
    "latents = latents.reshape(1,4*4*4)\n",
    "if project_config.IS_CUDA:\n",
    "    latents = latents.detach().cpu()\n",
    "print(latents.shape)\n",
    "print(pregenerated_vae_results.shape)\n",
    "\n",
    "cosine_similarity = torch.nn.CosineSimilarity(dim=1)\n",
    "\n",
    "c = torch.zeros(1,dataset_length)\n",
    "\n",
    "set_size = 1000\n",
    "\n",
    "for i in range(0,dataset_length//set_size):\n",
    "    a=i*set_size\n",
    "    b=(i+1)*set_size\n",
    "\n",
    "    c[0,a:b] = cosine_similarity(latents,pregenerated_vae_results[a:b])\n",
    "\n",
    "print(c.shape)\n",
    "print(c)\n",
    "print(torch.argmax(c))"
   ]
  },
  {
   "cell_type": "code",
   "execution_count": 18,
   "metadata": {},
   "outputs": [
    {
     "data": {
      "image/jpeg": "[encoded data removed]",
      "image/png": "[encoded data removed]",
      "text/plain": [
       "<PIL.PngImagePlugin.PngImageFile image mode=RGB size=32x32>"
      ]
     },
     "metadata": {},
     "output_type": "display_data"
    },
    {
     "name": "stdout",
     "output_type": "stream",
     "text": [
      "frog\n"
     ]
    }
   ],
   "source": [
    "image = dataset_config.dataset[100][\"image\"]\n",
    "display(image)\n",
    "print(dataset_config.dataset[100][\"label_txt\"])"
   ]
  },
  {
   "cell_type": "code",
   "execution_count": 17,
   "metadata": {},
   "outputs": [
    {
     "name": "stdout",
     "output_type": "stream",
     "text": [
      "tensor([  100, 31148, 31282, 10783, 36939, 20294, 20160, 25913, 30282, 48341])\n"
     ]
    },
    {
     "data": {
      "image/jpeg": "[encoded data removed]",
      "image/png": "[encoded data removed]",
      "text/plain": [
       "<PIL.PngImagePlugin.PngImageFile image mode=RGB size=32x32>"
      ]
     },
     "metadata": {},
     "output_type": "display_data"
    },
    {
     "data": {
      "image/jpeg": "[encoded data removed]",
      "image/png": "[encoded data removed]",
      "text/plain": [
       "<PIL.PngImagePlugin.PngImageFile image mode=RGB size=32x32>"
      ]
     },
     "metadata": {},
     "output_type": "display_data"
    },
    {
     "data": {
      "image/jpeg": "[encoded data removed]",
      "image/png": "[encoded data removed]",
      "text/plain": [
       "<PIL.PngImagePlugin.PngImageFile image mode=RGB size=32x32>"
      ]
     },
     "metadata": {},
     "output_type": "display_data"
    },
    {
     "data": {
      "image/jpeg": "[encoded data removed]",
      "image/png": "[encoded data removed]",
      "text/plain": [
       "<PIL.PngImagePlugin.PngImageFile image mode=RGB size=32x32>"
      ]
     },
     "metadata": {},
     "output_type": "display_data"
    },
    {
     "data": {
      "image/jpeg": "[encoded data removed]",
      "image/png": "[encoded data removed]",
      "text/plain": [
       "<PIL.PngImagePlugin.PngImageFile image mode=RGB size=32x32>"
      ]
     },
     "metadata": {},
     "output_type": "display_data"
    },
    {
     "data": {
      "image/jpeg": "[encoded data removed]",
      "image/png": "[encoded data removed]",
      "text/plain": [
       "<PIL.PngImagePlugin.PngImageFile image mode=RGB size=32x32>"
      ]
     },
     "metadata": {},
     "output_type": "display_data"
    },
    {
     "data": {
      "image/jpeg": "[encoded data removed]",
      "image/png": "[encoded data removed]",
      "text/plain": [
       "<PIL.PngImagePlugin.PngImageFile image mode=RGB size=32x32>"
      ]
     },
     "metadata": {},
     "output_type": "display_data"
    },
    {
     "data": {
      "image/jpeg": "[encoded data removed]",
      "image/png": "[encoded data removed]",
      "text/plain": [
       "<PIL.PngImagePlugin.PngImageFile image mode=RGB size=32x32>"
      ]
     },
     "metadata": {},
     "output_type": "display_data"
    },
    {
     "data": {
      "image/jpeg": "[encoded data removed]",
      "image/png": "[encoded data removed]",
      "text/plain": [
       "<PIL.PngImagePlugin.PngImageFile image mode=RGB size=32x32>"
      ]
     },
     "metadata": {},
     "output_type": "display_data"
    },
    {
     "data": {
      "image/jpeg": "[encoded data removed]",
      "image/png": "[encoded data removed]",
      "text/plain": [
       "<PIL.PngImagePlugin.PngImageFile image mode=RGB size=32x32>"
      ]
     },
     "metadata": {},
     "output_type": "display_data"
    }
   ],
   "source": [
    "best_matches = torch.flatten(torch.topk(c,10).indices)\n",
    "print(best_matches)\n",
    "\n",
    "for i in range(10):\n",
    "    display(dataset_config.dataset[\"image\"][best_matches[i]])"
   ]
  }
 ],
 "metadata": {
  "kernelspec": {
   "display_name": "SD3HF_Unstable",
   "language": "python",
   "name": "python3"
  },
  "language_info": {
   "codemirror_mode": {
    "name": "ipython",
    "version": 3
   },
   "file_extension": ".py",
   "mimetype": "text/x-python",
   "name": "python",
   "nbconvert_exporter": "python",
   "pygments_lexer": "ipython3",
   "version": "3.10.14"
  }
 },
 "nbformat": 4,
 "nbformat_minor": 2
}
