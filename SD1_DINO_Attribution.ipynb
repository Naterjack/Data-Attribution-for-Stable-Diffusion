{
 "cells": [
  {
   "cell_type": "markdown",
   "metadata": {},
   "source": [
    "Load in our precomputed DINOV2 feature maps for CIRFAR10"
   ]
  },
  {
   "cell_type": "code",
   "execution_count": 1,
   "metadata": {},
   "outputs": [],
   "source": [
    "IS_WINDOWS = False"
   ]
  },
  {
   "cell_type": "code",
   "execution_count": 2,
   "metadata": {},
   "outputs": [
    {
     "name": "stderr",
     "output_type": "stream",
     "text": [
      "/tmp/ipykernel_457247/1745006164.py:2: FutureWarning: You are using `torch.load` with `weights_only=False` (the current default value), which uses the default pickle module implicitly. It is possible to construct malicious pickle data which will execute arbitrary code during unpickling (See https://github.com/pytorch/pytorch/blob/main/SECURITY.md#untrusted-models for more details). In a future release, the default value for `weights_only` will be flipped to `True`. This limits the functions that could be executed during unpickling. Arbitrary objects will no longer be allowed to be loaded via this mode unless they are explicitly allowlisted by the user via `torch.serialization.add_safe_globals`. We recommend you start setting `weights_only=True` for any use case where you don't have full control of the loaded file. Please open an issue on GitHub for any issues related to this experimental feature.\n",
      "  dino_cifar10 = torch.load(\"dino_cifar10.pt\")\n"
     ]
    },
    {
     "name": "stdout",
     "output_type": "stream",
     "text": [
      "[50000, 257, 768]\n"
     ]
    }
   ],
   "source": [
    "import torch\n",
    "dino_cifar10 = torch.load(\"dino_cifar10.pt\")\n",
    "print(list(dino_cifar10.shape))\n",
    "\n",
    "dino_cifar10 = dino_cifar10.reshape(50000,257*768)"
   ]
  },
  {
   "cell_type": "markdown",
   "metadata": {},
   "source": [
    "Load our pretrained (or more accurately, prefinetuned) Stable Diffusion 1.5 Model"
   ]
  },
  {
   "cell_type": "code",
   "execution_count": 3,
   "metadata": {},
   "outputs": [
    {
     "name": "stderr",
     "output_type": "stream",
     "text": [
      "/home/joy/miniconda3/envs/SD3HF_Unstable/lib/python3.10/site-packages/tqdm/auto.py:21: TqdmWarning: IProgress not found. Please update jupyter and ipywidgets. See https://ipywidgets.readthedocs.io/en/stable/user_install.html\n",
      "  from .autonotebook import tqdm as notebook_tqdm\n",
      "/home/joy/miniconda3/envs/SD3HF_Unstable/lib/python3.10/site-packages/xformers/ops/fmha/flash.py:211: FutureWarning: `torch.library.impl_abstract` was renamed to `torch.library.register_fake`. Please use that instead; we will remove `torch.library.impl_abstract` in a future version of PyTorch.\n",
      "  @torch.library.impl_abstract(\"xformers_flash::flash_fwd\")\n",
      "/home/joy/miniconda3/envs/SD3HF_Unstable/lib/python3.10/site-packages/xformers/ops/fmha/flash.py:344: FutureWarning: `torch.library.impl_abstract` was renamed to `torch.library.register_fake`. Please use that instead; we will remove `torch.library.impl_abstract` in a future version of PyTorch.\n",
      "  @torch.library.impl_abstract(\"xformers_flash::flash_bwd\")\n"
     ]
    },
    {
     "name": "stdout",
     "output_type": "stream",
     "text": [
      "True\n"
     ]
    },
    {
     "name": "stderr",
     "output_type": "stream",
     "text": [
      "Loading pipeline components...: 100%|██████████| 7/7 [00:00<00:00, 13.16it/s]\n"
     ]
    },
    {
     "name": "stdout",
     "output_type": "stream",
     "text": [
      "\n"
     ]
    }
   ],
   "source": [
    "from diffusers import DiffusionPipeline\n",
    "\n",
    "import os\n",
    "if IS_WINDOWS: \n",
    "    p = \".\\\\FineTuned-SD1-cifar10\"\n",
    "else: #Assume UNIX-based\n",
    "    p = \"./FineTuned-SD1-cifar10\"\n",
    "print(os.path.isdir(p))\n",
    "\n",
    "pipe = DiffusionPipeline.from_pretrained(p)\n",
    "pipe.to(\"cuda\")\n",
    "print(\"\") #Stop ipynb dumping rubbish after this block"
   ]
  },
  {
   "cell_type": "markdown",
   "metadata": {},
   "source": [
    "Generate a sample image from our Diffusion Model"
   ]
  },
  {
   "cell_type": "code",
   "execution_count": 4,
   "metadata": {},
   "outputs": [
    {
     "name": "stderr",
     "output_type": "stream",
     "text": [
      "100%|██████████| 50/50 [00:01<00:00, 44.12it/s]\n",
      "Potential NSFW content was detected in one or more images. A black image will be returned instead. Try again with a different prompt and/or seed.\n",
      "100%|██████████| 50/50 [00:01<00:00, 48.28it/s]\n",
      "100%|██████████| 50/50 [00:01<00:00, 49.32it/s]\n",
      "100%|██████████| 50/50 [00:01<00:00, 49.24it/s]\n",
      "100%|██████████| 50/50 [00:01<00:00, 49.36it/s]\n",
      "100%|██████████| 50/50 [00:01<00:00, 47.64it/s]\n",
      "100%|██████████| 50/50 [00:01<00:00, 47.62it/s]\n",
      "100%|██████████| 50/50 [00:01<00:00, 48.83it/s]\n",
      "100%|██████████| 50/50 [00:01<00:00, 48.59it/s]\n",
      "100%|██████████| 50/50 [00:01<00:00, 47.79it/s]\n"
     ]
    },
    {
     "data": {
      "image/png": "[encoded data removed]",
      "text/plain": [
       "<Figure size 640x480 with 1 Axes>"
      ]
     },
     "metadata": {},
     "output_type": "display_data"
    }
   ],
   "source": [
    "from PIL import Image\n",
    "import matplotlib.pyplot as plt\n",
    "%matplotlib inline\n",
    "\n",
    "prompts=['airplane', 'automobile', 'bird', 'cat', 'deer', 'dog', 'horse', 'ship', 'truck', 'frog']\n",
    "\n",
    "for prompt in prompts:\n",
    "    seed = 1\n",
    "    generator = torch.Generator(device=\"cuda\").manual_seed(seed)\n",
    "\n",
    "    save_path = \"generated_images/\"+str(seed)+\"/\"+prompt+\"/\"\n",
    "    os.makedirs(save_path, exist_ok=True)\n",
    "\n",
    "    image = pipe(\n",
    "        height=32,\n",
    "        width=32,\n",
    "        prompt=prompt,\n",
    "        generator=generator,\n",
    "    ).images[0]\n",
    "\n",
    "    plt.imshow(image)\n",
    "\n",
    "    image.save(save_path+prompt+\".png\")"
   ]
  },
  {
   "cell_type": "markdown",
   "metadata": {},
   "source": [
    "Now generate attributions using cosine similarity on the DINOV2 feature maps"
   ]
  },
  {
   "cell_type": "code",
   "execution_count": 5,
   "metadata": {},
   "outputs": [
    {
     "name": "stdout",
     "output_type": "stream",
     "text": [
      "torch.Size([1, 197376])\n",
      "torch.Size([50000, 197376])\n",
      "torch.Size([1, 50000])\n",
      "tensor([[0.0567, 0.2136, 0.1224,  ..., 0.0891, 0.1136, 0.0931]])\n",
      "tensor(18820)\n"
     ]
    }
   ],
   "source": [
    "from transformers import AutoImageProcessor, Dinov2Model\n",
    "\n",
    "image_processor = AutoImageProcessor.from_pretrained(\"facebook/dinov2-base\")\n",
    "\n",
    "model = Dinov2Model.from_pretrained(\"facebook/dinov2-base\")\n",
    "\n",
    "input_image = image_processor(image, return_tensors=\"pt\")\n",
    "\n",
    "with torch.no_grad():\n",
    "    outputs = model(**input_image)\n",
    "\n",
    "last_hidden_state = outputs.last_hidden_state\n",
    "\n",
    "last_hidden_state = last_hidden_state.reshape(1,257*768)\n",
    "\n",
    "print(last_hidden_state.shape)\n",
    "print(dino_cifar10.shape)\n",
    "\n",
    "cosine_similarity = torch.nn.CosineSimilarity(dim=1)\n",
    "\n",
    "c = torch.zeros(1,50000)\n",
    "\n",
    "set_size = 1000\n",
    "dataset_size = 50000\n",
    "\n",
    "for i in range(0,dataset_size//set_size):\n",
    "    a=i*set_size\n",
    "    b=(i+1)*set_size\n",
    "\n",
    "    c[0,a:b] = cosine_similarity(last_hidden_state,dino_cifar10[a:b])\n",
    "\n",
    "print(c.shape)\n",
    "print(c)\n",
    "print(torch.argmax(c))"
   ]
  },
  {
   "cell_type": "code",
   "execution_count": 6,
   "metadata": {},
   "outputs": [],
   "source": [
    "del dino_cifar10\n",
    "\n",
    "from datasets import load_dataset\n",
    "\n",
    "#https://huggingface.co/datasets/\n",
    "\n",
    "dataset_name = \"uoft-cs/cifar10\"\n",
    "dataset = load_dataset(dataset_name, split=\"train\")\n",
    "\n",
    "dataset = dataset.rename_column(\"img\", \"image\")"
   ]
  },
  {
   "cell_type": "code",
   "execution_count": 7,
   "metadata": {},
   "outputs": [
    {
     "name": "stdout",
     "output_type": "stream",
     "text": [
      "tensor([18820, 42729, 46721, 33561, 24547, 35141, 40117, 12343,  8298, 10146])\n"
     ]
    },
    {
     "data": {
      "image/jpeg": "[encoded data removed]",
      "image/png": "[encoded data removed]",
      "text/plain": [
       "<PIL.PngImagePlugin.PngImageFile image mode=RGB size=32x32>"
      ]
     },
     "metadata": {},
     "output_type": "display_data"
    },
    {
     "data": {
      "image/jpeg": "[encoded data removed]",
      "image/png": "[encoded data removed]",
      "text/plain": [
       "<PIL.PngImagePlugin.PngImageFile image mode=RGB size=32x32>"
      ]
     },
     "metadata": {},
     "output_type": "display_data"
    },
    {
     "data": {
      "image/jpeg": "[encoded data removed]",
      "image/png": "[encoded data removed]",
      "text/plain": [
       "<PIL.PngImagePlugin.PngImageFile image mode=RGB size=32x32>"
      ]
     },
     "metadata": {},
     "output_type": "display_data"
    },
    {
     "data": {
      "image/jpeg": "[encoded data removed]",
      "image/png": "[encoded data removed]",
      "text/plain": [
       "<PIL.PngImagePlugin.PngImageFile image mode=RGB size=32x32>"
      ]
     },
     "metadata": {},
     "output_type": "display_data"
    },
    {
     "data": {
      "image/jpeg": "[encoded data removed]",
      "image/png": "[encoded data removed]",
      "text/plain": [
       "<PIL.PngImagePlugin.PngImageFile image mode=RGB size=32x32>"
      ]
     },
     "metadata": {},
     "output_type": "display_data"
    },
    {
     "data": {
      "image/jpeg": "[encoded data removed]",
      "image/png": "[encoded data removed]",
      "text/plain": [
       "<PIL.PngImagePlugin.PngImageFile image mode=RGB size=32x32>"
      ]
     },
     "metadata": {},
     "output_type": "display_data"
    },
    {
     "data": {
      "image/jpeg": "[encoded data removed]",
      "image/png": "[encoded data removed]",
      "text/plain": [
       "<PIL.PngImagePlugin.PngImageFile image mode=RGB size=32x32>"
      ]
     },
     "metadata": {},
     "output_type": "display_data"
    },
    {
     "data": {
      "image/jpeg": "[encoded data removed]",
      "image/png": "[encoded data removed]",
      "text/plain": [
       "<PIL.PngImagePlugin.PngImageFile image mode=RGB size=32x32>"
      ]
     },
     "metadata": {},
     "output_type": "display_data"
    },
    {
     "data": {
      "image/jpeg": "[encoded data removed]",
      "image/png": "[encoded data removed]",
      "text/plain": [
       "<PIL.PngImagePlugin.PngImageFile image mode=RGB size=32x32>"
      ]
     },
     "metadata": {},
     "output_type": "display_data"
    },
    {
     "data": {
      "image/jpeg": "[encoded data removed]",
      "image/png": "[encoded data removed]",
      "text/plain": [
       "<PIL.PngImagePlugin.PngImageFile image mode=RGB size=32x32>"
      ]
     },
     "metadata": {},
     "output_type": "display_data"
    }
   ],
   "source": [
    "best_matches = torch.flatten(torch.topk(c,10).indices)\n",
    "print(best_matches)\n",
    "\n",
    "for i in range(10):\n",
    "    display(dataset[\"image\"][best_matches[i]])"
   ]
  }
 ],
 "metadata": {
  "kernelspec": {
   "display_name": "SD3HF_Unstable",
   "language": "python",
   "name": "python3"
  },
  "language_info": {
   "codemirror_mode": {
    "name": "ipython",
    "version": 3
   },
   "file_extension": ".py",
   "mimetype": "text/x-python",
   "name": "python",
   "nbconvert_exporter": "python",
   "pygments_lexer": "ipython3",
   "version": "3.10.14"
  }
 },
 "nbformat": 4,
 "nbformat_minor": 2
}
