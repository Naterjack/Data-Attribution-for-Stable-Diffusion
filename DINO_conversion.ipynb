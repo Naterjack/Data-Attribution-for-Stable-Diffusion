{
 "cells": [
  {
   "cell_type": "code",
   "execution_count": null,
   "metadata": {},
   "outputs": [],
   "source": [
    "from utils.config import Project_Config, CIFAR_10_Config, CIFAR_10_Local_Config\n",
    "from utils.custom_enums import Dataset_Type_Enum\n",
    "project_config = Project_Config()\n",
    "\n",
    "#CIFAR 2\n",
    "#Roughly 10 min without CUDA\n",
    "#Roughly 30 seconds with CUDA\n",
    "\n",
    "#CIFAR10\n",
    "# Roughly 1h 40 min without CUDA\n",
    "# Roughly 5 min with CUDA"
   ]
  },
  {
   "cell_type": "code",
   "execution_count": 12,
   "metadata": {},
   "outputs": [],
   "source": [
    "dataset_type = Dataset_Type_Enum.CIFAR10\n",
    "SAVE=True\n",
    "f = project_config.folder_symbol\n",
    "save_path = (\n",
    "    project_config.PWD + f +\n",
    "    \"DINO\" + f +\n",
    "    f\"dino-{dataset_type}.pt\"\n",
    ")"
   ]
  },
  {
   "cell_type": "code",
   "execution_count": 13,
   "metadata": {},
   "outputs": [],
   "source": [
    "if dataset_type == Dataset_Type_Enum.CIFAR2:\n",
    "    dataset_config = CIFAR_10_Local_Config(\n",
    "        project_config=project_config,\n",
    "        dataset_type=dataset_type\n",
    "    )\n",
    "if dataset_type == Dataset_Type_Enum.CIFAR10:\n",
    "    dataset_config = CIFAR_10_Config()"
   ]
  },
  {
   "cell_type": "code",
   "execution_count": 14,
   "metadata": {},
   "outputs": [
    {
     "data": {
      "text/plain": [
       "{'image': Image(mode=None, decode=True, id=None),\n",
       " 'label_txt': Value(dtype='string', id=None)}"
      ]
     },
     "execution_count": 14,
     "metadata": {},
     "output_type": "execute_result"
    }
   ],
   "source": [
    "dataset_config.dataset.features"
   ]
  },
  {
   "cell_type": "code",
   "execution_count": 15,
   "metadata": {},
   "outputs": [
    {
     "data": {
      "image/jpeg": "[encoded data removed]",
      "image/png": "[encoded data removed]",
      "text/plain": [
       "<PIL.PngImagePlugin.PngImageFile image mode=RGB size=32x32>"
      ]
     },
     "execution_count": 15,
     "metadata": {},
     "output_type": "execute_result"
    }
   ],
   "source": [
    "dataset_config.dataset[0][\"image\"]"
   ]
  },
  {
   "cell_type": "code",
   "execution_count": 16,
   "metadata": {},
   "outputs": [
    {
     "data": {
      "text/plain": [
       "'airplane'"
      ]
     },
     "execution_count": 16,
     "metadata": {},
     "output_type": "execute_result"
    }
   ],
   "source": [
    "dataset_config.dataset[0][\"label_txt\"]"
   ]
  },
  {
   "cell_type": "code",
   "execution_count": 17,
   "metadata": {},
   "outputs": [
    {
     "name": "stdout",
     "output_type": "stream",
     "text": [
      "Completed 1000 of 50000 images\n",
      "Completed 2000 of 50000 images\n",
      "Completed 3000 of 50000 images\n",
      "Completed 4000 of 50000 images\n",
      "Completed 5000 of 50000 images\n",
      "Completed 6000 of 50000 images\n",
      "Completed 7000 of 50000 images\n",
      "Completed 8000 of 50000 images\n",
      "Completed 9000 of 50000 images\n",
      "Completed 10000 of 50000 images\n",
      "Completed 11000 of 50000 images\n",
      "Completed 12000 of 50000 images\n",
      "Completed 13000 of 50000 images\n",
      "Completed 14000 of 50000 images\n",
      "Completed 15000 of 50000 images\n",
      "Completed 16000 of 50000 images\n",
      "Completed 17000 of 50000 images\n",
      "Completed 18000 of 50000 images\n",
      "Completed 19000 of 50000 images\n",
      "Completed 20000 of 50000 images\n",
      "Completed 21000 of 50000 images\n",
      "Completed 22000 of 50000 images\n",
      "Completed 23000 of 50000 images\n",
      "Completed 24000 of 50000 images\n",
      "Completed 25000 of 50000 images\n",
      "Completed 26000 of 50000 images\n",
      "Completed 27000 of 50000 images\n",
      "Completed 28000 of 50000 images\n",
      "Completed 29000 of 50000 images\n",
      "Completed 30000 of 50000 images\n",
      "Completed 31000 of 50000 images\n",
      "Completed 32000 of 50000 images\n",
      "Completed 33000 of 50000 images\n",
      "Completed 34000 of 50000 images\n",
      "Completed 35000 of 50000 images\n",
      "Completed 36000 of 50000 images\n",
      "Completed 37000 of 50000 images\n",
      "Completed 38000 of 50000 images\n",
      "Completed 39000 of 50000 images\n",
      "Completed 40000 of 50000 images\n",
      "Completed 41000 of 50000 images\n",
      "Completed 42000 of 50000 images\n",
      "Completed 43000 of 50000 images\n",
      "Completed 44000 of 50000 images\n",
      "Completed 45000 of 50000 images\n",
      "Completed 46000 of 50000 images\n",
      "Completed 47000 of 50000 images\n",
      "Completed 48000 of 50000 images\n",
      "Completed 49000 of 50000 images\n",
      "Completed 50000 of 50000 images\n",
      "[50000, 257, 768]\n"
     ]
    }
   ],
   "source": [
    "from transformers import AutoImageProcessor, Dinov2Model\n",
    "\n",
    "import torch\n",
    "\n",
    "image = dataset_config.dataset[0][\"image\"]\n",
    "\n",
    "image_processor = AutoImageProcessor.from_pretrained(\"facebook/dinov2-base\")\n",
    "\n",
    "model = Dinov2Model.from_pretrained(\"facebook/dinov2-base\")\n",
    "\n",
    "dataset_size = len(dataset_config.dataset)\n",
    "\n",
    "if SAVE:\n",
    "\n",
    "    set_size = 1000\n",
    "    last_hidden_states = torch.zeros(dataset_size,257,768)\n",
    "    if project_config.IS_CUDA:\n",
    "        GPU_BUFFER_SIZE = 5000\n",
    "        last_hidden_states_buffer = torch.zeros(GPU_BUFFER_SIZE,257,768, device='cuda')\n",
    "        model.to('cuda')\n",
    "        buffer_internal_index = 0\n",
    "        buffer_external_index = 0\n",
    "\n",
    "    for i in range(0,dataset_size//set_size):\n",
    "        a=i*set_size\n",
    "        b=(i+1)*set_size\n",
    "\n",
    "        input_set = image_processor(dataset_config.dataset[a:b][\"image\"], return_tensors=\"pt\")\n",
    "\n",
    "        if project_config.IS_CUDA:\n",
    "            input_set.to('cuda')\n",
    "\n",
    "        with torch.no_grad():\n",
    "            outputs = model(**input_set)\n",
    "\n",
    "        if project_config.IS_CUDA:\n",
    "            last_hidden_states_buffer[buffer_internal_index:(buffer_internal_index+set_size)] = outputs.last_hidden_state\n",
    "            buffer_internal_index += set_size\n",
    "            if buffer_internal_index == GPU_BUFFER_SIZE:\n",
    "                last_hidden_states[buffer_external_index:(buffer_external_index+GPU_BUFFER_SIZE)] = last_hidden_states_buffer.detach().cpu()\n",
    "                last_hidden_states_buffer = torch.zeros_like(last_hidden_states_buffer, device='cuda')\n",
    "                buffer_external_index += GPU_BUFFER_SIZE\n",
    "                buffer_internal_index = 0\n",
    "        else:\n",
    "            last_hidden_states[a:b] = outputs.last_hidden_state\n",
    "        print(f\"Completed {(i+1)*set_size} of {dataset_size} images\")\n",
    "\n",
    "    print(list(last_hidden_states.shape))\n",
    "\n",
    "    torch.save(last_hidden_states, save_path)"
   ]
  },
  {
   "cell_type": "code",
   "execution_count": 18,
   "metadata": {},
   "outputs": [
    {
     "name": "stderr",
     "output_type": "stream",
     "text": [
      "/tmp/ipykernel_451320/3449114581.py:1: FutureWarning: You are using `torch.load` with `weights_only=False` (the current default value), which uses the default pickle module implicitly. It is possible to construct malicious pickle data which will execute arbitrary code during unpickling (See https://github.com/pytorch/pytorch/blob/main/SECURITY.md#untrusted-models for more details). In a future release, the default value for `weights_only` will be flipped to `True`. This limits the functions that could be executed during unpickling. Arbitrary objects will no longer be allowed to be loaded via this mode unless they are explicitly allowlisted by the user via `torch.serialization.add_safe_globals`. We recommend you start setting `weights_only=True` for any use case where you don't have full control of the loaded file. Please open an issue on GitHub for any issues related to this experimental feature.\n",
      "  pregenerated_dino_results = torch.load(save_path)\n"
     ]
    },
    {
     "name": "stdout",
     "output_type": "stream",
     "text": [
      "[50000, 257, 768]\n"
     ]
    }
   ],
   "source": [
    "pregenerated_dino_results = torch.load(save_path)\n",
    "print(list(pregenerated_dino_results.shape))\n",
    "\n",
    "pregenerated_dino_results = pregenerated_dino_results.reshape(dataset_size,257*768)"
   ]
  },
  {
   "cell_type": "code",
   "execution_count": 19,
   "metadata": {},
   "outputs": [
    {
     "name": "stdout",
     "output_type": "stream",
     "text": [
      "torch.Size([1, 197376])\n",
      "torch.Size([50000, 197376])\n",
      "torch.Size([1, 50000])\n",
      "tensor([[0.0533, 0.2341, 0.0879,  ..., 0.0890, 0.0982, 0.1085]])\n",
      "tensor(100)\n"
     ]
    }
   ],
   "source": [
    "image = dataset_config.dataset[100][\"image\"]\n",
    "input_image = image_processor(image, return_tensors=\"pt\")\n",
    "\n",
    "if project_config.IS_CUDA:\n",
    "    input_image.to('cuda')\n",
    "\n",
    "with torch.no_grad():\n",
    "    outputs = model(**input_image)\n",
    "\n",
    "last_hidden_state = outputs.last_hidden_state.detach().cpu()\n",
    "\n",
    "last_hidden_state = last_hidden_state.reshape(1,257*768)\n",
    "\n",
    "print(last_hidden_state.shape)\n",
    "print(pregenerated_dino_results.shape)\n",
    "\n",
    "cosine_similarity = torch.nn.CosineSimilarity(dim=1)\n",
    "\n",
    "c = torch.zeros(1,dataset_size)\n",
    "\n",
    "set_size = 1000\n",
    "\n",
    "for i in range(0,dataset_size//set_size):\n",
    "    a=i*set_size\n",
    "    b=(i+1)*set_size\n",
    "\n",
    "    c[0,a:b] = cosine_similarity(last_hidden_state,pregenerated_dino_results[a:b])\n",
    "\n",
    "print(c.shape)\n",
    "print(c)\n",
    "print(torch.argmax(c))"
   ]
  },
  {
   "cell_type": "code",
   "execution_count": 21,
   "metadata": {},
   "outputs": [
    {
     "data": {
      "image/jpeg": "[encoded data removed]",
      "image/png": "[encoded data removed]",
      "text/plain": [
       "<PIL.PngImagePlugin.PngImageFile image mode=RGB size=32x32>"
      ]
     },
     "metadata": {},
     "output_type": "display_data"
    }
   ],
   "source": [
    "display(dataset_config.dataset[100][\"image\"])"
   ]
  },
  {
   "cell_type": "code",
   "execution_count": 20,
   "metadata": {},
   "outputs": [
    {
     "name": "stdout",
     "output_type": "stream",
     "text": [
      "tensor([  100, 29092, 31090, 14660, 42653, 13771, 20238, 22508, 45898,  4564])\n"
     ]
    },
    {
     "data": {
      "image/jpeg": "[encoded data removed]",
      "image/png": "[encoded data removed]",
      "text/plain": [
       "<PIL.PngImagePlugin.PngImageFile image mode=RGB size=32x32>"
      ]
     },
     "metadata": {},
     "output_type": "display_data"
    },
    {
     "data": {
      "image/jpeg": "[encoded data removed]",
      "image/png": "[encoded data removed]",
      "text/plain": [
       "<PIL.PngImagePlugin.PngImageFile image mode=RGB size=32x32>"
      ]
     },
     "metadata": {},
     "output_type": "display_data"
    },
    {
     "data": {
      "image/jpeg": "[encoded data removed]",
      "image/png": "[encoded data removed]",
      "text/plain": [
       "<PIL.PngImagePlugin.PngImageFile image mode=RGB size=32x32>"
      ]
     },
     "metadata": {},
     "output_type": "display_data"
    },
    {
     "data": {
      "image/jpeg": "[encoded data removed]",
      "image/png": "[encoded data removed]",
      "text/plain": [
       "<PIL.PngImagePlugin.PngImageFile image mode=RGB size=32x32>"
      ]
     },
     "metadata": {},
     "output_type": "display_data"
    },
    {
     "data": {
      "image/jpeg": "[encoded data removed]",
      "image/png": "[encoded data removed]",
      "text/plain": [
       "<PIL.PngImagePlugin.PngImageFile image mode=RGB size=32x32>"
      ]
     },
     "metadata": {},
     "output_type": "display_data"
    },
    {
     "data": {
      "image/jpeg": "[encoded data removed]",
      "image/png": "[encoded data removed]",
      "text/plain": [
       "<PIL.PngImagePlugin.PngImageFile image mode=RGB size=32x32>"
      ]
     },
     "metadata": {},
     "output_type": "display_data"
    },
    {
     "data": {
      "image/jpeg": "[encoded data removed]",
      "image/png": "[encoded data removed]",
      "text/plain": [
       "<PIL.PngImagePlugin.PngImageFile image mode=RGB size=32x32>"
      ]
     },
     "metadata": {},
     "output_type": "display_data"
    },
    {
     "data": {
      "image/jpeg": "[encoded data removed]",
      "image/png": "[encoded data removed]",
      "text/plain": [
       "<PIL.PngImagePlugin.PngImageFile image mode=RGB size=32x32>"
      ]
     },
     "metadata": {},
     "output_type": "display_data"
    },
    {
     "data": {
      "image/jpeg": "[encoded data removed]",
      "image/png": "[encoded data removed]",
      "text/plain": [
       "<PIL.PngImagePlugin.PngImageFile image mode=RGB size=32x32>"
      ]
     },
     "metadata": {},
     "output_type": "display_data"
    },
    {
     "data": {
      "image/jpeg": "[encoded data removed]",
      "image/png": "[encoded data removed]",
      "text/plain": [
       "<PIL.PngImagePlugin.PngImageFile image mode=RGB size=32x32>"
      ]
     },
     "metadata": {},
     "output_type": "display_data"
    }
   ],
   "source": [
    "best_matches = torch.flatten(torch.topk(c,10).indices)\n",
    "print(best_matches)\n",
    "\n",
    "for i in range(10):\n",
    "    display(dataset_config.dataset[\"image\"][best_matches[i]])"
   ]
  }
 ],
 "metadata": {
  "kernelspec": {
   "display_name": "SD3HF_Unstable",
   "language": "python",
   "name": "python3"
  },
  "language_info": {
   "codemirror_mode": {
    "name": "ipython",
    "version": 3
   },
   "file_extension": ".py",
   "mimetype": "text/x-python",
   "name": "python",
   "nbconvert_exporter": "python",
   "pygments_lexer": "ipython3",
   "version": "3.10.14"
  }
 },
 "nbformat": 4,
 "nbformat_minor": 2
}
