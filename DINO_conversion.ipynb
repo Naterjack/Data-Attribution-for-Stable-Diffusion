{
 "cells": [
  {
   "cell_type": "code",
   "execution_count": 1,
   "metadata": {},
   "outputs": [
    {
     "name": "stderr",
     "output_type": "stream",
     "text": [
      "/home/joy/miniconda3/envs/SD3HF_Unstable/lib/python3.10/site-packages/tqdm/auto.py:21: TqdmWarning: IProgress not found. Please update jupyter and ipywidgets. See https://ipywidgets.readthedocs.io/en/stable/user_install.html\n",
      "  from .autonotebook import tqdm as notebook_tqdm\n",
      "/home/joy/miniconda3/envs/SD3HF_Unstable/lib/python3.10/site-packages/xformers/ops/fmha/flash.py:211: FutureWarning: `torch.library.impl_abstract` was renamed to `torch.library.register_fake`. Please use that instead; we will remove `torch.library.impl_abstract` in a future version of PyTorch.\n",
      "  @torch.library.impl_abstract(\"xformers_flash::flash_fwd\")\n",
      "/home/joy/miniconda3/envs/SD3HF_Unstable/lib/python3.10/site-packages/xformers/ops/fmha/flash.py:344: FutureWarning: `torch.library.impl_abstract` was renamed to `torch.library.register_fake`. Please use that instead; we will remove `torch.library.impl_abstract` in a future version of PyTorch.\n",
      "  @torch.library.impl_abstract(\"xformers_flash::flash_bwd\")\n"
     ]
    }
   ],
   "source": [
    "from utils.config import Project_Config, CIFAR_10_Config, CIFAR_10_Local_Config\n",
    "from utils.custom_enums import Dataset_Type_Enum\n",
    "project_config = Project_Config()"
   ]
  },
  {
   "cell_type": "code",
   "execution_count": 2,
   "metadata": {},
   "outputs": [],
   "source": [
    "dataset_type = Dataset_Type_Enum.CIFAR2\n",
    "SAVE=False\n",
    "f = project_config.folder_symbol\n",
    "save_path = (\n",
    "    project_config.PWD + f +\n",
    "    \"DINO\" + f +\n",
    "    f\"dino_{dataset_type}.pt\"\n",
    ")"
   ]
  },
  {
   "cell_type": "code",
   "execution_count": 3,
   "metadata": {},
   "outputs": [],
   "source": [
    "if dataset_type == Dataset_Type_Enum.CIFAR2:\n",
    "    dataset_config = CIFAR_10_Local_Config(\n",
    "        project_config=project_config,\n",
    "        dataset_type=dataset_type\n",
    "    )\n",
    "if dataset_type == Dataset_Type_Enum.CIFAR10:\n",
    "    dataset_config = CIFAR_10_Config()"
   ]
  },
  {
   "cell_type": "code",
   "execution_count": 4,
   "metadata": {},
   "outputs": [
    {
     "data": {
      "text/plain": [
       "{'image': Image(mode=None, decode=True, id=None),\n",
       " 'label_txt': Value(dtype='string', id=None)}"
      ]
     },
     "execution_count": 4,
     "metadata": {},
     "output_type": "execute_result"
    }
   ],
   "source": [
    "dataset_config.dataset.features"
   ]
  },
  {
   "cell_type": "code",
   "execution_count": 5,
   "metadata": {},
   "outputs": [
    {
     "data": {
      "image/jpeg": "[encoded data removed]",
      "image/png": "[encoded data removed]",
      "text/plain": [
       "<PIL.PngImagePlugin.PngImageFile image mode=RGB size=32x32>"
      ]
     },
     "execution_count": 5,
     "metadata": {},
     "output_type": "execute_result"
    }
   ],
   "source": [
    "dataset_config.dataset[0][\"image\"]"
   ]
  },
  {
   "cell_type": "code",
   "execution_count": 6,
   "metadata": {},
   "outputs": [
    {
     "data": {
      "text/plain": [
       "'horse'"
      ]
     },
     "execution_count": 6,
     "metadata": {},
     "output_type": "execute_result"
    }
   ],
   "source": [
    "dataset_config.dataset[0][\"label_txt\"]"
   ]
  },
  {
   "cell_type": "code",
   "execution_count": 7,
   "metadata": {},
   "outputs": [],
   "source": [
    "from transformers import AutoImageProcessor, Dinov2Model\n",
    "\n",
    "import torch\n",
    "\n",
    "image = dataset_config.dataset[0][\"image\"]\n",
    "\n",
    "image_processor = AutoImageProcessor.from_pretrained(\"facebook/dinov2-base\")\n",
    "\n",
    "model = Dinov2Model.from_pretrained(\"facebook/dinov2-base\")\n",
    "\n",
    "dataset_size = len(dataset_config.dataset)\n",
    "\n",
    "if SAVE:\n",
    "\n",
    "    set_size = 1000\n",
    "    last_hidden_states = torch.zeros(dataset_size,257,768)\n",
    "\n",
    "    for i in range(0,dataset_size//set_size):\n",
    "        a=i*set_size\n",
    "        b=(i+1)*set_size\n",
    "\n",
    "        input_set = image_processor(dataset_config.dataset[a:b][\"image\"], return_tensors=\"pt\")\n",
    "\n",
    "        with torch.no_grad():\n",
    "            outputs = model(**input_set)\n",
    "\n",
    "        last_hidden_states[a:b] = outputs.last_hidden_state\n",
    "        print(f\"Completed {(i+1)*set_size} of {dataset_size} images\")\n",
    "\n",
    "    print(list(last_hidden_states.shape))\n",
    "\n",
    "    torch.save(last_hidden_states, save_path)"
   ]
  },
  {
   "cell_type": "code",
   "execution_count": 8,
   "metadata": {},
   "outputs": [
    {
     "name": "stderr",
     "output_type": "stream",
     "text": [
      "/tmp/ipykernel_206751/3449114581.py:1: FutureWarning: You are using `torch.load` with `weights_only=False` (the current default value), which uses the default pickle module implicitly. It is possible to construct malicious pickle data which will execute arbitrary code during unpickling (See https://github.com/pytorch/pytorch/blob/main/SECURITY.md#untrusted-models for more details). In a future release, the default value for `weights_only` will be flipped to `True`. This limits the functions that could be executed during unpickling. Arbitrary objects will no longer be allowed to be loaded via this mode unless they are explicitly allowlisted by the user via `torch.serialization.add_safe_globals`. We recommend you start setting `weights_only=True` for any use case where you don't have full control of the loaded file. Please open an issue on GitHub for any issues related to this experimental feature.\n",
      "  pregenerated_dino_results = torch.load(save_path)\n"
     ]
    },
    {
     "name": "stdout",
     "output_type": "stream",
     "text": [
      "[5000, 257, 768]\n"
     ]
    }
   ],
   "source": [
    "pregenerated_dino_results = torch.load(save_path)\n",
    "print(list(pregenerated_dino_results.shape))\n",
    "\n",
    "pregenerated_dino_results = pregenerated_dino_results.reshape(dataset_size,257*768)"
   ]
  },
  {
   "cell_type": "code",
   "execution_count": 9,
   "metadata": {},
   "outputs": [
    {
     "name": "stdout",
     "output_type": "stream",
     "text": [
      "torch.Size([1, 197376])\n",
      "torch.Size([5000, 197376])\n",
      "torch.Size([1, 5000])\n",
      "tensor([[0.1532, 0.3845, 0.3042,  ..., 0.1183, 0.1330, 0.1407]])\n",
      "tensor(100)\n"
     ]
    }
   ],
   "source": [
    "image = dataset_config.dataset[100][\"image\"]\n",
    "input_image = image_processor(image, return_tensors=\"pt\")\n",
    "\n",
    "with torch.no_grad():\n",
    "    outputs = model(**input_image)\n",
    "\n",
    "last_hidden_state = outputs.last_hidden_state\n",
    "\n",
    "last_hidden_state = last_hidden_state.reshape(1,257*768)\n",
    "\n",
    "print(last_hidden_state.shape)\n",
    "print(pregenerated_dino_results.shape)\n",
    "\n",
    "cosine_similarity = torch.nn.CosineSimilarity(dim=1)\n",
    "\n",
    "c = torch.zeros(1,dataset_size)\n",
    "\n",
    "set_size = 1000\n",
    "\n",
    "for i in range(0,dataset_size//set_size):\n",
    "    a=i*set_size\n",
    "    b=(i+1)*set_size\n",
    "\n",
    "    c[0,a:b] = cosine_similarity(last_hidden_state,pregenerated_dino_results[a:b])\n",
    "\n",
    "print(c.shape)\n",
    "print(c)\n",
    "print(torch.argmax(c))"
   ]
  },
  {
   "cell_type": "code",
   "execution_count": 10,
   "metadata": {},
   "outputs": [
    {
     "name": "stdout",
     "output_type": "stream",
     "text": [
      "tensor([ 100, 3238,  445, 3342, 2901, 4418, 4578, 1099, 1533, 3605])\n"
     ]
    },
    {
     "data": {
      "image/jpeg": "[encoded data removed]",
      "image/png": "[encoded data removed]",
      "text/plain": [
       "<PIL.PngImagePlugin.PngImageFile image mode=RGB size=32x32>"
      ]
     },
     "metadata": {},
     "output_type": "display_data"
    },
    {
     "data": {
      "image/jpeg": "[encoded data removed]",
      "image/png": "[encoded data removed]",
      "text/plain": [
       "<PIL.PngImagePlugin.PngImageFile image mode=RGB size=32x32>"
      ]
     },
     "metadata": {},
     "output_type": "display_data"
    },
    {
     "data": {
      "image/jpeg": "[encoded data removed]",
      "image/png": "[encoded data removed]",
      "text/plain": [
       "<PIL.PngImagePlugin.PngImageFile image mode=RGB size=32x32>"
      ]
     },
     "metadata": {},
     "output_type": "display_data"
    },
    {
     "data": {
      "image/jpeg": "[encoded data removed]",
      "image/png": "[encoded data removed]",
      "text/plain": [
       "<PIL.PngImagePlugin.PngImageFile image mode=RGB size=32x32>"
      ]
     },
     "metadata": {},
     "output_type": "display_data"
    },
    {
     "data": {
      "image/jpeg": "[encoded data removed]",
      "image/png": "[encoded data removed]",
      "text/plain": [
       "<PIL.PngImagePlugin.PngImageFile image mode=RGB size=32x32>"
      ]
     },
     "metadata": {},
     "output_type": "display_data"
    },
    {
     "data": {
      "image/jpeg": "[encoded data removed]",
      "image/png": "[encoded data removed]",
      "text/plain": [
       "<PIL.PngImagePlugin.PngImageFile image mode=RGB size=32x32>"
      ]
     },
     "metadata": {},
     "output_type": "display_data"
    },
    {
     "data": {
      "image/jpeg": "[encoded data removed]",
      "image/png": "[encoded data removed]",
      "text/plain": [
       "<PIL.PngImagePlugin.PngImageFile image mode=RGB size=32x32>"
      ]
     },
     "metadata": {},
     "output_type": "display_data"
    },
    {
     "data": {
      "image/jpeg": "[encoded data removed]",
      "image/png": "[encoded data removed]",
      "text/plain": [
       "<PIL.PngImagePlugin.PngImageFile image mode=RGB size=32x32>"
      ]
     },
     "metadata": {},
     "output_type": "display_data"
    },
    {
     "data": {
      "image/jpeg": "[encoded data removed]",
      "image/png": "[encoded data removed]",
      "text/plain": [
       "<PIL.PngImagePlugin.PngImageFile image mode=RGB size=32x32>"
      ]
     },
     "metadata": {},
     "output_type": "display_data"
    },
    {
     "data": {
      "image/jpeg": "[encoded data removed]",
      "image/png": "[encoded data removed]",
      "text/plain": [
       "<PIL.PngImagePlugin.PngImageFile image mode=RGB size=32x32>"
      ]
     },
     "metadata": {},
     "output_type": "display_data"
    }
   ],
   "source": [
    "best_matches = torch.flatten(torch.topk(c,10).indices)\n",
    "print(best_matches)\n",
    "\n",
    "for i in range(10):\n",
    "    display(dataset_config.dataset[\"image\"][best_matches[i]])"
   ]
  }
 ],
 "metadata": {
  "kernelspec": {
   "display_name": "SD3HF_Unstable",
   "language": "python",
   "name": "python3"
  },
  "language_info": {
   "codemirror_mode": {
    "name": "ipython",
    "version": 3
   },
   "file_extension": ".py",
   "mimetype": "text/x-python",
   "name": "python",
   "nbconvert_exporter": "python",
   "pygments_lexer": "ipython3",
   "version": "3.10.14"
  }
 },
 "nbformat": 4,
 "nbformat_minor": 2
}
